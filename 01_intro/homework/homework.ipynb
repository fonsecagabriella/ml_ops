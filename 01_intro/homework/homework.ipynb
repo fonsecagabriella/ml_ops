{
 "cells": [
  {
   "cell_type": "markdown",
   "id": "fa2654e2",
   "metadata": {},
   "source": [
    "# Homework - Week 01\n",
    "\n",
    "## 01. Downloading the data\n",
    "\n",
    "Download the data for January and February 2023.\n",
    "Read the data for January. How many columns are there?\n",
    "\n",
    "> 19"
   ]
  },
  {
   "cell_type": "code",
   "execution_count": null,
   "id": "7a2546a6",
   "metadata": {},
   "outputs": [],
   "source": [
    "import pandas as pd\n",
    "\n",
    "\n",
    "# download the data for january 2023\n",
    "df_january =  pd.read_parquet('https://d37ci6vzurychx.cloudfront.net/trip-data/yellow_tripdata_2023-01.parquet')\n",
    "\n",
    "# download the data for february 2023\n",
    "df_february = pd.read_parquet('https://d37ci6vzurychx.cloudfront.net/trip-data/yellow_tripdata_2023-02.parquet')\n"
   ]
  },
  {
   "cell_type": "code",
   "execution_count": 5,
   "id": "bd6e3caa",
   "metadata": {},
   "outputs": [
    {
     "name": "stdout",
     "output_type": "stream",
     "text": [
      "Number of columns in January data: 19\n"
     ]
    }
   ],
   "source": [
    "# check the number of columns in the january data\n",
    "print(f\"Number of columns in January data: {len(df_january.columns)}\")"
   ]
  },
  {
   "cell_type": "markdown",
   "id": "81237265",
   "metadata": {},
   "source": [
    "## 02. Computing duration\n",
    "Now let's compute the duration variable. It should contain the duration of a ride in minutes.\n",
    "What's the standard deviation of the trips duration in January?\n",
    "\n",
    "> 42.59\n"
   ]
  },
  {
   "cell_type": "code",
   "execution_count": 17,
   "id": "a7da3558",
   "metadata": {},
   "outputs": [],
   "source": [
    "# create a new column for the trip duration\n",
    "df_january['trip_duration'] = df_january['tpep_dropoff_datetime'] - df_january['tpep_pickup_datetime']\n",
    "\n",
    "df_january.head()\n",
    "\n",
    "# convert the trip duration to minutes\n",
    "df_january['trip_duration'] = df_january['trip_duration'].dt.total_seconds() / 60\n"
   ]
  },
  {
   "cell_type": "code",
   "execution_count": 18,
   "id": "71a095e9",
   "metadata": {},
   "outputs": [
    {
     "name": "stdout",
     "output_type": "stream",
     "text": [
      "Standard deviation of trip duration in January data: 42.594351241920904\n"
     ]
    }
   ],
   "source": [
    "# compute the standard deviation of the trip distance in the january data\n",
    "print(f\"Standard deviation of trip duration in January data: {df_january['trip_duration'].std()}\")"
   ]
  },
  {
   "cell_type": "markdown",
   "id": "64309669",
   "metadata": {},
   "source": [
    "## 03. Dropping outliers\n",
    "\n",
    "Next, we need to check the distribution of the duration variable. There are some outliers. Let's remove them and keep only the records where the duration was between 1 and 60 minutes (inclusive).\n",
    "\n",
    "What fraction of the records left after you dropped the outliers?\n",
    "\n",
    "> 98%"
   ]
  },
  {
   "cell_type": "code",
   "execution_count": 19,
   "id": "e8769d37",
   "metadata": {},
   "outputs": [
    {
     "data": {
      "text/plain": [
       "count    3.066766e+06\n",
       "mean     1.566900e+01\n",
       "std      4.259435e+01\n",
       "min     -2.920000e+01\n",
       "25%      7.116667e+00\n",
       "50%      1.151667e+01\n",
       "75%      1.830000e+01\n",
       "max      1.002918e+04\n",
       "Name: trip_duration, dtype: float64"
      ]
     },
     "execution_count": 19,
     "metadata": {},
     "output_type": "execute_result"
    }
   ],
   "source": [
    "# check the distribution of trip duration\n",
    "df_january['trip_duration'].describe()"
   ]
  },
  {
   "cell_type": "code",
   "execution_count": 20,
   "id": "31d1917d",
   "metadata": {},
   "outputs": [
    {
     "name": "stdout",
     "output_type": "stream",
     "text": [
      "Number of rows in cleaned January data: 3009173\n",
      "Number of rows in original January data: 3066766\n",
      "Ratio of cleaned data to original data: 98.12%\n"
     ]
    }
   ],
   "source": [
    "total_trips = len(df_january)\n",
    "\n",
    "# clean df_january and leave only trips between 1 and 60 minutes (inclusive)\n",
    "\n",
    "df_january_cleaned = df_january[\n",
    "    (df_january['trip_duration'] >= 1) & (df_january['trip_duration'] <= 60)\n",
    "]\n",
    "\n",
    "# check the number of rows in the cleaned data\n",
    "print(f\"Number of rows in cleaned January data: {len(df_january_cleaned)}\")\n",
    "# check the number of rows in the original data\n",
    "print(f\"Number of rows in original January data: {total_trips}\")\n",
    "# check the ratio of cleaned data to original data\n",
    "print(f\"Ratio of cleaned data to original data: {len(df_january_cleaned) / total_trips:.2%}\")"
   ]
  },
  {
   "cell_type": "markdown",
   "id": "28c348d4",
   "metadata": {},
   "source": [
    "## 4. One-hot encoding\n",
    "Let's apply one-hot encoding to the pickup and dropoff location IDs. We'll use only these two features for our model.\n",
    "\n",
    "- Turn the dataframe into a list of dictionaries (remember to re-cast the ids to strings - otherwise it will label encode them)\n",
    "- Fit a dictionary vectorizer\n",
    "- Get a feature matrix from it\n",
    "- What's the dimensionality of this matrix (number of columns)?\n",
    "\n",
    "> 515\n"
   ]
  },
  {
   "cell_type": "code",
   "execution_count": null,
   "id": "20c4f4ec",
   "metadata": {},
   "outputs": [
    {
     "name": "stderr",
     "output_type": "stream",
     "text": [
      "/var/folders/55/x1yqz6851xj6j2f0smdhs4jh0000gn/T/ipykernel_23287/2209579791.py:12: SettingWithCopyWarning: \n",
      "A value is trying to be set on a copy of a slice from a DataFrame.\n",
      "Try using .loc[row_indexer,col_indexer] = value instead\n",
      "\n",
      "See the caveats in the documentation: https://pandas.pydata.org/pandas-docs/stable/user_guide/indexing.html#returning-a-view-versus-a-copy\n",
      "  df_january_cleaned[categorical_cols] = df_january_cleaned[categorical_cols].astype(str)\n"
     ]
    },
    {
     "data": {
      "text/plain": [
       "PULocationID    object\n",
       "DOLocationID    object\n",
       "dtype: object"
      ]
     },
     "execution_count": 25,
     "metadata": {},
     "output_type": "execute_result"
    }
   ],
   "source": [
    "# select the relevant columns\n",
    "categorical_cols = [\n",
    "    'PULocationID',\n",
    "    'DOLocationID',\n",
    "    #'payment_type',\n",
    "    #'passenger_count'\n",
    "]\n",
    "\n",
    "# one-hot encode the categorical columns with dict vectorization\n",
    "\n",
    "# transform the categorical columns to string type, otherwise dict vectorization will not work\n",
    "df_january_cleaned[categorical_cols] = df_january_cleaned[categorical_cols].astype(str)\n",
    "\n",
    "# check the data types of the categorical columns\n",
    "df_january_cleaned[categorical_cols].dtypes"
   ]
  },
  {
   "cell_type": "code",
   "execution_count": 67,
   "id": "d0205573",
   "metadata": {},
   "outputs": [
    {
     "name": "stdout",
     "output_type": "stream",
     "text": [
      "Shape of the matrix: (3009173, 515)\n"
     ]
    }
   ],
   "source": [
    "from sklearn.feature_extraction import DictVectorizer\n",
    "\n",
    "# create a dict vectorizer\n",
    "dv = DictVectorizer()\n",
    "\n",
    "# transform the categorical columns to a dict\n",
    "def df_to_dict(df, categorical_cols):\n",
    "    return df[categorical_cols].to_dict(orient='records')\n",
    "\n",
    "# transform the categorical columns to a dict\n",
    "train_dicts = df_to_dict(df_january_cleaned, categorical_cols)\n",
    "\n",
    "# transform the categorical columns to a matrix\n",
    "X_train = dv.fit_transform(train_dicts)\n",
    "\n",
    "# check the shape of the matrix\n",
    "print(f\"Shape of the matrix: {X_train.shape}\")"
   ]
  },
  {
   "cell_type": "markdown",
   "id": "3fe02bdd",
   "metadata": {},
   "source": [
    "## 05. Training a model\n",
    "Now let's use the feature matrix from the previous step to train a model.\n",
    "\n",
    "- Train a plain linear regression model with default parameters, where duration is the response variable\n",
    "- Calculate the RMSE of the model on the training data\n",
    "- What's the RMSE on train?\n",
    "\n",
    "> 7.64"
   ]
  },
  {
   "cell_type": "code",
   "execution_count": 68,
   "id": "8d7bf642",
   "metadata": {},
   "outputs": [
    {
     "name": "stdout",
     "output_type": "stream",
     "text": [
      "Shape of the target variable: (3009173,)\n"
     ]
    }
   ],
   "source": [
    "# set the target variable\n",
    "y_train = df_january_cleaned['trip_duration'].values\n",
    "\n",
    "# check the shape of the target variable\n",
    "print(f\"Shape of the target variable: {y_train.shape}\")"
   ]
  },
  {
   "cell_type": "code",
   "execution_count": 69,
   "id": "092d3d22",
   "metadata": {},
   "outputs": [
    {
     "name": "stdout",
     "output_type": "stream",
     "text": [
      "RMSE: 7.65 minutes\n"
     ]
    }
   ],
   "source": [
    "# create a simple linear regression model\n",
    "from sklearn.linear_model import LinearRegression\n",
    "from sklearn.metrics import root_mean_squared_error\n",
    "\n",
    "linear_reg = LinearRegression()\n",
    "\n",
    "# fit the model\n",
    "linear_reg.fit(X_train, y_train)\n",
    "\n",
    "y_pred = linear_reg.predict(X_train)\n",
    "\n",
    "# check the RMSE\n",
    "rmse = root_mean_squared_error(y_train, y_pred)\n",
    "\n",
    "print(f\"RMSE: {rmse:.2f} minutes\")"
   ]
  },
  {
   "cell_type": "markdown",
   "id": "5e81116d",
   "metadata": {},
   "source": [
    "## 06. Evaluating the model\n",
    "Now let's apply this model to the validation dataset (February 2023).\n",
    "\n",
    "What's the RMSE on validation?\n",
    "\n",
    "> 7.81\n"
   ]
  },
  {
   "cell_type": "code",
   "execution_count": 70,
   "id": "fa7fb2fe",
   "metadata": {},
   "outputs": [
    {
     "name": "stdout",
     "output_type": "stream",
     "text": [
      "Number of rows in cleaned February data: 2855951\n"
     ]
    },
    {
     "name": "stderr",
     "output_type": "stream",
     "text": [
      "/var/folders/55/x1yqz6851xj6j2f0smdhs4jh0000gn/T/ipykernel_23287/660958077.py:14: SettingWithCopyWarning: \n",
      "A value is trying to be set on a copy of a slice from a DataFrame.\n",
      "Try using .loc[row_indexer,col_indexer] = value instead\n",
      "\n",
      "See the caveats in the documentation: https://pandas.pydata.org/pandas-docs/stable/user_guide/indexing.html#returning-a-view-versus-a-copy\n",
      "  df_february_cleaned[categorical_cols] = df_february_cleaned[categorical_cols].astype(str)\n"
     ]
    },
    {
     "name": "stdout",
     "output_type": "stream",
     "text": [
      "Shape of the matrix: (2855951, 515)\n",
      "Shape of the target variable: (2855951,)\n"
     ]
    }
   ],
   "source": [
    "# apply the same transformation to the february data\n",
    "df_february['trip_duration'] = df_february['tpep_dropoff_datetime'] - df_february['tpep_pickup_datetime']\n",
    "df_february['trip_duration'] = df_february['trip_duration'].dt.total_seconds() / 60\n",
    "\n",
    "# clean df_february and leave only trips between 1 and 60 minutes (inclusive)\n",
    "df_february_cleaned = df_february[\n",
    "    (df_february['trip_duration'] >= 1) & (df_february['trip_duration'] <= 60)\n",
    "]\n",
    "\n",
    "# check the number of rows in the cleaned data\n",
    "print(f\"Number of rows in cleaned February data: {len(df_february_cleaned)}\")\n",
    "\n",
    "# transform the categorical columns to string type, otherwise dict vectorization will not work\n",
    "df_february_cleaned[categorical_cols] = df_february_cleaned[categorical_cols].astype(str)\n",
    "\n",
    "# transform the categorical columns to a dict\n",
    "val_dicts = df_to_dict(df_february_cleaned, categorical_cols)\n",
    "\n",
    "# transform the categorical columns to a matrix\n",
    "X_val = dv.transform(val_dicts)\n",
    "\n",
    "# check the shape of the matrix\n",
    "print(f\"Shape of the matrix: {X_val.shape}\")\n",
    "\n",
    "# set the target variable\n",
    "y_val = df_february_cleaned['trip_duration'].values\n",
    "\n",
    "# check the shape of the target variable\n",
    "print(f\"Shape of the target variable: {y_val.shape}\")"
   ]
  },
  {
   "cell_type": "code",
   "execution_count": 71,
   "id": "49469ab4",
   "metadata": {},
   "outputs": [
    {
     "name": "stdout",
     "output_type": "stream",
     "text": [
      "RMSE: 7.81 minutes\n"
     ]
    }
   ],
   "source": [
    "# predict the trip duration\n",
    "y_pred_val = linear_reg.predict(X_val)\n",
    "\n",
    "# check the RMSE\n",
    "rmse = root_mean_squared_error(y_pred_val, y_val)\n",
    "print(f\"RMSE: {rmse:.2f} minutes\")"
   ]
  }
 ],
 "metadata": {
  "kernelspec": {
   "display_name": "base",
   "language": "python",
   "name": "python3"
  },
  "language_info": {
   "codemirror_mode": {
    "name": "ipython",
    "version": 3
   },
   "file_extension": ".py",
   "mimetype": "text/x-python",
   "name": "python",
   "nbconvert_exporter": "python",
   "pygments_lexer": "ipython3",
   "version": "3.12.2"
  }
 },
 "nbformat": 4,
 "nbformat_minor": 5
}
