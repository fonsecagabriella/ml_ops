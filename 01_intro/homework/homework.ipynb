{
 "cells": [
  {
   "cell_type": "markdown",
   "id": "fa2654e2",
   "metadata": {},
   "source": [
    "# Homework - Week 01\n",
    "\n",
    "## 01. Downloading the data\n",
    "\n",
    "Download the data for January and February 2023.\n",
    "Read the data for January. How many columns are there?\n",
    "\n",
    "> 19"
   ]
  },
  {
   "cell_type": "code",
   "execution_count": null,
   "id": "7a2546a6",
   "metadata": {},
   "outputs": [],
   "source": [
    "import pandas as pd\n",
    "\n",
    "\n",
    "# download the data for january 2023\n",
    "df_january =  pd.read_parquet('https://d37ci6vzurychx.cloudfront.net/trip-data/yellow_tripdata_2023-01.parquet')\n",
    "\n",
    "# download the data for february 2023\n",
    "df_february = pd.read_parquet('https://d37ci6vzurychx.cloudfront.net/trip-data/yellow_tripdata_2023-02.parquet')\n"
   ]
  },
  {
   "cell_type": "code",
   "execution_count": 5,
   "id": "bd6e3caa",
   "metadata": {},
   "outputs": [
    {
     "name": "stdout",
     "output_type": "stream",
     "text": [
      "Number of columns in January data: 19\n"
     ]
    }
   ],
   "source": [
    "# check the number of columns in the january data\n",
    "print(f\"Number of columns in January data: {len(df_january.columns)}\")"
   ]
  },
  {
   "cell_type": "markdown",
   "id": "81237265",
   "metadata": {},
   "source": [
    "## 02. Computing duration\n",
    "Now let's compute the duration variable. It should contain the duration of a ride in minutes.\n",
    "What's the standard deviation of the trips duration in January?\n",
    "\n",
    "> 42.59\n"
   ]
  },
  {
   "cell_type": "code",
   "execution_count": 17,
   "id": "a7da3558",
   "metadata": {},
   "outputs": [],
   "source": [
    "# create a new column for the trip duration\n",
    "df_january['trip_duration'] = df_january['tpep_dropoff_datetime'] - df_january['tpep_pickup_datetime']\n",
    "\n",
    "df_january.head()\n",
    "\n",
    "# convert the trip duration to minutes\n",
    "df_january['trip_duration'] = df_january['trip_duration'].dt.total_seconds() / 60\n"
   ]
  },
  {
   "cell_type": "code",
   "execution_count": 18,
   "id": "71a095e9",
   "metadata": {},
   "outputs": [
    {
     "name": "stdout",
     "output_type": "stream",
     "text": [
      "Standard deviation of trip duration in January data: 42.594351241920904\n"
     ]
    }
   ],
   "source": [
    "# compute the standard deviation of the trip distance in the january data\n",
    "print(f\"Standard deviation of trip duration in January data: {df_january['trip_duration'].std()}\")"
   ]
  },
  {
   "cell_type": "markdown",
   "id": "64309669",
   "metadata": {},
   "source": [
    "## 03. Dropping outliers\n",
    "\n",
    "Next, we need to check the distribution of the duration variable. There are some outliers. Let's remove them and keep only the records where the duration was between 1 and 60 minutes (inclusive).\n",
    "\n",
    "What fraction of the records left after you dropped the outliers?\n",
    "\n",
    "90%\n",
    "92%\n",
    "95%\n",
    "98%"
   ]
  },
  {
   "cell_type": "markdown",
   "id": "28c348d4",
   "metadata": {},
   "source": [
    "## 4. One-hot encoding\n",
    "Let's apply one-hot encoding to the pickup and dropoff location IDs. We'll use only these two features for our model.\n",
    "\n",
    "Turn the dataframe into a list of dictionaries (remember to re-cast the ids to strings - otherwise it will label encode them)\n",
    "Fit a dictionary vectorizer\n",
    "Get a feature matrix from it\n",
    "What's the dimensionality of this matrix (number of columns)?\n",
    "\n",
    "2\n",
    "155\n",
    "345\n",
    "515\n",
    "715"
   ]
  },
  {
   "cell_type": "markdown",
   "id": "3fe02bdd",
   "metadata": {},
   "source": [
    "## 05. Training a model\n",
    "Now let's use the feature matrix from the previous step to train a model.\n",
    "\n",
    "Train a plain linear regression model with default parameters, where duration is the response variable\n",
    "Calculate the RMSE of the model on the training data\n",
    "What's the RMSE on train?\n",
    "\n",
    "3.64\n",
    "7.64\n",
    "11.64\n",
    "16.64"
   ]
  },
  {
   "cell_type": "markdown",
   "id": "5e81116d",
   "metadata": {},
   "source": [
    "## 06. Evaluating the model\n",
    "Now let's apply this model to the validation dataset (February 2023).\n",
    "\n",
    "What's the RMSE on validation?\n",
    "\n",
    "3.81\n",
    "7.81\n",
    "11.81\n",
    "16.81"
   ]
  }
 ],
 "metadata": {
  "kernelspec": {
   "display_name": "base",
   "language": "python",
   "name": "python3"
  },
  "language_info": {
   "codemirror_mode": {
    "name": "ipython",
    "version": 3
   },
   "file_extension": ".py",
   "mimetype": "text/x-python",
   "name": "python",
   "nbconvert_exporter": "python",
   "pygments_lexer": "ipython3",
   "version": "3.12.2"
  }
 },
 "nbformat": 4,
 "nbformat_minor": 5
}
